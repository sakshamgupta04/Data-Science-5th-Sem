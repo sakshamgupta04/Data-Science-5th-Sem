{
 "cells": [
  {
   "cell_type": "code",
   "execution_count": 3,
   "id": "38527835-4c58-4570-bd37-732c2309e2c7",
   "metadata": {},
   "outputs": [],
   "source": [
    "import numpy as np\n",
    "import pandas as pd\n",
    "import matplotlib.pyplot as plt\n",
    "from scipy.stats import zscore\n",
    "\n",
    "#Sample dataset\n",
    "data = {'values': [18, 12, 14, 15, 18, 21, 35] }\n",
    "df = pd.DataFrame(data)"
   ]
  },
  {
   "cell_type": "code",
   "execution_count": 4,
   "id": "a4986c3b-1bf8-44b3-a5d9-95a3788cebac",
   "metadata": {},
   "outputs": [],
   "source": [
    "#1. Identifying outliers using IOR\n",
    "Q1 =df['values'].quantile(0.25)\n",
    "Q3 =df['values'].quantile(0.75) \n",
    "IQR=Q3 - Q1\n",
    "\n",
    "#Thresholds\n",
    "lowerbound =Q1-1.5* IQR \n",
    "upperbound = Q3+1.5 * IQR\n",
    "\n",
    "#Mark outliers\n",
    "df['Outlier_IQR'] =(df['values']< lowerbound) | (df['values'] > upperbound)\n"
   ]
  },
  {
   "cell_type": "code",
   "execution_count": 5,
   "id": "01678dc4-3ef5-41cd-af6f-e709f3dab8dd",
   "metadata": {},
   "outputs": [
    {
     "name": "stdout",
     "output_type": "stream",
     "text": [
      "Dataset with Outliers Flagged:\n",
      "   values  Outlier_IQR   Z-Score  Outlier_Z\n",
      "0      18        False -0.141019      False\n",
      "1      12        False -0.987133      False\n",
      "2      14        False -0.705095      False\n",
      "3      15        False -0.564076      False\n",
      "4      18        False -0.141019      False\n",
      "5      21        False  0.282038      False\n",
      "6      35         True  2.256304      False\n"
     ]
    }
   ],
   "source": [
    "#2. Identifying outliers using Z-Score \n",
    "df['Z-Score'] = zscore(df['values'])\n",
    "df[ 'Outlier_Z'] = df['Z-Score'].abs() > 3\n",
    "print(\"Dataset with Outliers Flagged:\")\n",
    "print(df)"
   ]
  },
  {
   "cell_type": "code",
   "execution_count": 6,
   "id": "00a6cd9d-5810-4d6d-b937-38a12bc0541b",
   "metadata": {},
   "outputs": [
    {
     "data": {
      "image/png": "[encoded data removed]",
      "text/plain": [
       "<Figure size 640x480 with 1 Axes>"
      ]
     },
     "metadata": {},
     "output_type": "display_data"
    }
   ],
   "source": [
    "#Visualizing outliers\n",
    "plt.boxplot(df['values'])\n",
    "plt.title(\"Boxplot to Visualize Outliers\")\n",
    "plt.show()"
   ]
  },
  {
   "cell_type": "code",
   "execution_count": 7,
   "id": "d348c145-9788-41aa-bb89-1784d4cd10b3",
   "metadata": {},
   "outputs": [
    {
     "name": "stdout",
     "output_type": "stream",
     "text": [
      "Dataset after Removing Outliers:\n",
      "   values  Outlier_IQR   Z-Score  Outlier_Z\n",
      "0      18        False -0.141019      False\n",
      "1      12        False -0.987133      False\n",
      "2      14        False -0.705095      False\n",
      "3      15        False -0.564076      False\n",
      "4      18        False -0.141019      False\n",
      "5      21        False  0.282038      False\n"
     ]
    }
   ],
   "source": [
    "#Handling outliers (removal)\n",
    "cleaned_df=df[~df['Outlier_IQR']] # Remove IQR outliers\n",
    "print(\"Dataset after Removing Outliers:\")\n",
    "print(cleaned_df)"
   ]
  },
  {
   "cell_type": "code",
   "execution_count": 10,
   "id": "b08a39ac-25c3-462e-932d-4df0e082e501",
   "metadata": {},
   "outputs": [
    {
     "name": "stdout",
     "output_type": "stream",
     "text": [
      "Statistical Measures Before Removing Outliers:\n",
      "count     7.000000\n",
      "mean     19.000000\n",
      "std       7.659417\n",
      "min      12.000000\n",
      "25%      14.500000\n",
      "50%      18.000000\n",
      "75%      19.500000\n",
      "max      35.000000\n",
      "Name: values, dtype: float64\n"
     ]
    }
   ],
   "source": [
    "# Statistical measures before removing outliers\n",
    "stats_before = df['values'].describe()\n",
    "\n",
    "# Statistical measures after removing outliers\n",
    "stats_after= cleaned_df['values'].describe()\n",
    "\n",
    "print(\"Statistical Measures Before Removing Outliers:\")\n",
    "print(stats_before)"
   ]
  },
  {
   "cell_type": "code",
   "execution_count": 9,
   "id": "6b8e8299-0319-4ef2-84fd-9714e7c1c65d",
   "metadata": {},
   "outputs": [
    {
     "name": "stdout",
     "output_type": "stream",
     "text": [
      "Statistical Measures After Removing Outliers:\n",
      "count     6.000000\n",
      "mean     16.333333\n",
      "std       3.265986\n",
      "min      12.000000\n",
      "25%      14.250000\n",
      "50%      16.500000\n",
      "75%      18.000000\n",
      "max      21.000000\n",
      "Name: values, dtype: float64\n"
     ]
    }
   ],
   "source": [
    "print(\"Statistical Measures After Removing Outliers:\")\n",
    "print(stats_after)"
   ]
  }
 ],
 "metadata": {
  "kernelspec": {
   "display_name": "Python 3 (ipykernel)",
   "language": "python",
   "name": "python3"
  },
  "language_info": {
   "codemirror_mode": {
    "name": "ipython",
    "version": 3
   },
   "file_extension": ".py",
   "mimetype": "text/x-python",
   "name": "python",
   "nbconvert_exporter": "python",
   "pygments_lexer": "ipython3",
   "version": "3.12.0"
  }
 },
 "nbformat": 4,
 "nbformat_minor": 5
}
