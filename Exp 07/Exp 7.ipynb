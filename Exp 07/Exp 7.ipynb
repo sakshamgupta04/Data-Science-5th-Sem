{
 "cells": [
  {
   "cell_type": "code",
   "execution_count": 1,
   "id": "1ab9641f-de15-45ff-81a3-068c01839883",
   "metadata": {},
   "outputs": [],
   "source": [
    "import numpy as np\n",
    "import pandas as pd\n",
    "import matplotlib.pyplot as plt\n",
    "from scipy.stats import zscore\n",
    "\n",
    "#Sample dataset\n",
    "data = {'values': [5, 10, 15, 20, 25, 30, 35] }\n",
    "df = pd.DataFrame(data)"
   ]
  },
  {
   "cell_type": "code",
   "execution_count": 2,
   "id": "a7e8b4e0-840e-4c13-b2ff-66133397c77c",
   "metadata": {},
   "outputs": [],
   "source": [
    "#1. Identifying outliers using IOR\n",
    "Q1 =df['values'].quantile(0.25)\n",
    "Q3 =df['values'].quantile(0.75) \n",
    "IQR=Q3 - Q1\n",
    "\n",
    "#Thresholds\n",
    "lowerbound =Q1-1.5* IQR \n",
    "upperbound = Q3+1.5 * IQR\n",
    "\n",
    "#Mark outliers\n",
    "df['Outlier_IQR'] =(df['values']< lowerbound) | (df['values'] > upperbound)\n"
   ]
  },
  {
   "cell_type": "code",
   "execution_count": 3,
   "id": "a75ecf54-168f-4ad9-b854-d2b48188f56c",
   "metadata": {},
   "outputs": [
    {
     "name": "stdout",
     "output_type": "stream",
     "text": [
      "Dataset with Outliers Flagged:\n",
      "   values  Outlier_IQR  Z-Score  Outlier_Z\n",
      "0       5        False     -1.5      False\n",
      "1      10        False     -1.0      False\n",
      "2      15        False     -0.5      False\n",
      "3      20        False      0.0      False\n",
      "4      25        False      0.5      False\n",
      "5      30        False      1.0      False\n",
      "6      35        False      1.5      False\n"
     ]
    }
   ],
   "source": [
    "#2. Identifying outliers using Z-Score \n",
    "df['Z-Score'] = zscore(df['values'])\n",
    "df[ 'Outlier_Z'] = df['Z-Score'].abs() > 3\n",
    "print(\"Dataset with Outliers Flagged:\")\n",
    "print(df)"
   ]
  },
  {
   "cell_type": "code",
   "execution_count": 4,
   "id": "407a9e7b-c5cd-4e27-b0c3-9a35e131b346",
   "metadata": {},
   "outputs": [
    {
     "data": {
      "image/png": "[encoded data removed]",
      "text/plain": [
       "<Figure size 640x480 with 1 Axes>"
      ]
     },
     "metadata": {},
     "output_type": "display_data"
    }
   ],
   "source": [
    "#Visualizing outliers\n",
    "plt.boxplot(df['values'])\n",
    "plt.title(\"Boxplot to Visualize Outliers\")\n",
    "plt.show()"
   ]
  },
  {
   "cell_type": "code",
   "execution_count": 5,
   "id": "00a63e99-93d0-432c-b0c0-9d6b48647136",
   "metadata": {},
   "outputs": [
    {
     "name": "stdout",
     "output_type": "stream",
     "text": [
      "Dataset after Removing Outliers:\n",
      "   values  Outlier_IQR  Z-Score  Outlier_Z\n",
      "0       5        False     -1.5      False\n",
      "1      10        False     -1.0      False\n",
      "2      15        False     -0.5      False\n",
      "3      20        False      0.0      False\n",
      "4      25        False      0.5      False\n",
      "5      30        False      1.0      False\n",
      "6      35        False      1.5      False\n"
     ]
    }
   ],
   "source": [
    "#Handling outliers (removal)\n",
    "cleaned_df=df[~df['Outlier_IQR']] # Remove IQR outliers\n",
    "print(\"Dataset after Removing Outliers:\")\n",
    "print(cleaned_df)"
   ]
  },
  {
   "cell_type": "code",
   "execution_count": 6,
   "id": "d6731868-98f6-49be-aae9-f78fae5e91a9",
   "metadata": {},
   "outputs": [
    {
     "name": "stdout",
     "output_type": "stream",
     "text": [
      "Statistical Measures Before Removing Outliers:\n",
      "count     7.000000\n",
      "mean     20.000000\n",
      "std      10.801234\n",
      "min       5.000000\n",
      "25%      12.500000\n",
      "50%      20.000000\n",
      "75%      27.500000\n",
      "max      35.000000\n",
      "Name: values, dtype: float64\n"
     ]
    }
   ],
   "source": [
    "# Statistical measures before removing outliers\n",
    "stats_before = df['values'].describe()\n",
    "\n",
    "# Statistical measures after removing outliers\n",
    "stats_after= cleaned_df['values'].describe()\n",
    "\n",
    "print(\"Statistical Measures Before Removing Outliers:\")\n",
    "print(stats_before)"
   ]
  },
  {
   "cell_type": "code",
   "execution_count": 7,
   "id": "3607b56c-2934-4d35-bda0-c58ecccee698",
   "metadata": {},
   "outputs": [
    {
     "name": "stdout",
     "output_type": "stream",
     "text": [
      "Statistical Measures After Removing Outliers:\n",
      "count     7.000000\n",
      "mean     20.000000\n",
      "std      10.801234\n",
      "min       5.000000\n",
      "25%      12.500000\n",
      "50%      20.000000\n",
      "75%      27.500000\n",
      "max      35.000000\n",
      "Name: values, dtype: float64\n"
     ]
    }
   ],
   "source": [
    "print(\"Statistical Measures After Removing Outliers:\")\n",
    "print(stats_after)"
   ]
  },
  {
   "cell_type": "code",
   "execution_count": null,
   "id": "2b1fe0c8-6102-4476-9b20-311fcb6d41f7",
   "metadata": {},
   "outputs": [],
   "source": []
  }
 ],
 "metadata": {
  "kernelspec": {
   "display_name": "Python 3 (ipykernel)",
   "language": "python",
   "name": "python3"
  },
  "language_info": {
   "codemirror_mode": {
    "name": "ipython",
    "version": 3
   },
   "file_extension": ".py",
   "mimetype": "text/x-python",
   "name": "python",
   "nbconvert_exporter": "python",
   "pygments_lexer": "ipython3",
   "version": "3.12.0"
  }
 },
 "nbformat": 4,
 "nbformat_minor": 5
}
